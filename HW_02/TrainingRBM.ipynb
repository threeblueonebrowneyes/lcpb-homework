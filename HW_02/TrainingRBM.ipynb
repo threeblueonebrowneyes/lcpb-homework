{
 "cells": [
  {
   "cell_type": "code",
   "execution_count": 1,
   "metadata": {
    "tags": []
   },
   "outputs": [],
   "source": [
    "import numpy as np\n",
    "import matplotlib.pyplot as plt\n",
    "from matplotlib.ticker import NullFormatter\n",
    "import pandas as pd\n",
    "\n",
    "\n",
    "from rBoltzMach import boltzmanmachine\n",
    "from metrics import pair_error, sequence_error, JS_divergence, p\n",
    "plt.rcParams['font.size'] = 14"
   ]
  },
  {
   "cell_type": "markdown",
   "metadata": {},
   "source": [
    "## Data selection"
   ]
  },
  {
   "cell_type": "code",
   "execution_count": 2,
   "metadata": {},
   "outputs": [],
   "source": [
    "CASE=1           #select the data to be analysed\n",
    "if CASE==0: dname=\"DATA\"\n",
    "if CASE==1: dname=\"DATA_b\"\n",
    "    \n",
    "fname=dname+'/x_RBM_q0.1.dat'\n",
    "v = np.loadtxt(fname, delimiter=\" \",dtype=int)\n",
    "v0 = np.copy(v)  #Copy original data to analyse later"
   ]
  },
  {
   "cell_type": "code",
   "execution_count": 3,
   "metadata": {},
   "outputs": [
    {
     "name": "stdout",
     "output_type": "stream",
     "text": [
      "9.457500000000001 22.6\n"
     ]
    }
   ],
   "source": [
    "perror = pair_error(v0, spin=False)\n",
    "serror = sequence_error(v0, spin=False, vmin=0)\n",
    "print(perror, serror)\n"
   ]
  },
  {
   "cell_type": "markdown",
   "metadata": {},
   "source": [
    "## Network parameters"
   ]
  },
  {
   "cell_type": "code",
   "execution_count": 4,
   "metadata": {},
   "outputs": [
    {
     "name": "stdout",
     "output_type": "stream",
     "text": [
      "each of N=10000 data has L=20 digits\n",
      "The network has 20 visible units and 6 hidden units\n",
      "Initializing std 0.3922322702763681\n"
     ]
    }
   ],
   "source": [
    "N = len(v)       #Number of rows\n",
    "L = len(v[0])    #Set the number of visible variable\n",
    "M = 6            #Set the number of hidden units\n",
    "\n",
    "sigma = np.sqrt(4. / float(L + M))\n",
    "\n",
    "print(f'each of N={N} data has L={L} digits')\n",
    "print(f'The network has {L} visible units and {M} hidden units')\n",
    "print(f'Initializing std {sigma}')"
   ]
  },
  {
   "cell_type": "markdown",
   "metadata": {},
   "source": [
    "## Defining training parameters"
   ]
  },
  {
   "cell_type": "code",
   "execution_count": 5,
   "metadata": {},
   "outputs": [],
   "source": [
    "seed = 1      #set the random seed in order to reproduce results \n",
    "Amp_training  = 0.1      #set the coefficient that multiply the temp, Higher Amp -> Lower Temp\n",
    "cdn  = 1        #set the number of phases\n",
    "\n",
    "\n",
    "n_epochs = 100   #set the number of epochs\n",
    "\n",
    "\n",
    "spin = True      #chose the kind of representation\n",
    "\n",
    "if spin:\n",
    "    GAP=2        #sigmoid takes into account energy difference =2\n",
    "    v = 2*v - 1  #convert 0,1 -> -1,1\n",
    "    vmin=-1\n",
    "else:\n",
    "    GAP=1\n",
    "    vmin=0\n",
    "    \n",
    "Algorithm = 'RMSprop'"
   ]
  },
  {
   "cell_type": "markdown",
   "metadata": {},
   "source": [
    "## Initialize the Restricted Boltzmann Machine"
   ]
  },
  {
   "cell_type": "code",
   "execution_count": 6,
   "metadata": {},
   "outputs": [],
   "source": [
    "np.random.seed(seed)\n",
    "rbm = boltzmanmachine(L,M,sigma)"
   ]
  },
  {
   "cell_type": "markdown",
   "metadata": {},
   "source": [
    "## Model Training"
   ]
  },
  {
   "cell_type": "code",
   "execution_count": 10,
   "metadata": {},
   "outputs": [
    {
     "name": "stdout",
     "output_type": "stream",
     "text": [
      "===================================================\n",
      "Models/RMSprop_01_2_spin.npz\n",
      "===================================================\n",
      "Models/RMSprop_01_3_spin.npz\n",
      "===================================================\n",
      "Models/RMSprop_01_5_spin.npz\n",
      "===================================================\n",
      "Models/RMSprop_01_10_spin.npz\n"
     ]
    }
   ],
   "source": [
    "# random seed for reproducibility\n",
    "np.random.seed(seed)\n",
    "\n",
    "# learning rate\n",
    "l_rate = 1e-3\n",
    "\n",
    "# minibatch\n",
    "mini_batch = 500\n",
    "\n",
    "# train model\n",
    "for cdn in [2,3,5,10]: \n",
    "    rbm = boltzmanmachine(L,M,sigma)\n",
    "    print('===================================================')\n",
    "    for epoch in range(n_epochs):\n",
    "        # aggregate normalization of batch statistics and learning rate\n",
    "        for k in range(N):\n",
    "            rbm.train(data=v[k],\n",
    "                      learning_rate=l_rate,\n",
    "                      batch_size=mini_batch,\n",
    "                      n_contrastive_div=cdn,\n",
    "                      Amp_training=Amp_training,\n",
    "                      Algorithm=Algorithm)\n",
    "\n",
    "        # randomize the order of input data\n",
    "        np.random.shuffle(v)\n",
    "        #if epoch%10==9:\n",
    "        #    plt.matshow(rbm.w.T)\n",
    "        #    plt.colorbar()\n",
    "        #    plt.show()\n",
    "        #    print(epoch+1)\n",
    "    if spin == True:\n",
    "        file_name='Models/'+str(Algorithm)+'_'+str(Amp_training).replace('.','')+'_'+str(cdn)+'_'+'spin'+'.npz'\n",
    "    else:\n",
    "        file_name='Models/'+str(Algorithm)+'_'+str(Amp_training).replace('.','')+'_'+str(cdn)+'.npz'\n",
    "    rbm.save_model(file_name)\n",
    "    print(file_name)"
   ]
  },
  {
   "cell_type": "markdown",
   "metadata": {},
   "source": [
    "## Save model into .npz file containing multiple arrays"
   ]
  },
  {
   "cell_type": "code",
   "execution_count": null,
   "metadata": {},
   "outputs": [],
   "source": [
    "file_name='Models/'+str(Algorithm)+'_'+str(Amp_training).replace('.','')+'_'+str(cdn)+'.npz'\n",
    "rbm.save_model(file_name)"
   ]
  }
 ],
 "metadata": {
  "kernelspec": {
   "display_name": "Python 3 (ipykernel)",
   "language": "python",
   "name": "python3"
  },
  "language_info": {
   "codemirror_mode": {
    "name": "ipython",
    "version": 3
   },
   "file_extension": ".py",
   "mimetype": "text/x-python",
   "name": "python",
   "nbconvert_exporter": "python",
   "pygments_lexer": "ipython3",
   "version": "3.9.16"
  }
 },
 "nbformat": 4,
 "nbformat_minor": 4
}
